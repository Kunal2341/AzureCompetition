{
 "cells": [
  {
   "cell_type": "markdown",
   "id": "yellow-motel",
   "metadata": {},
   "source": [
    "# IMPORT"
   ]
  },
  {
   "cell_type": "code",
   "execution_count": 24,
   "id": "ranging-assist",
   "metadata": {},
   "outputs": [],
   "source": [
    "import random\n",
    "import requests\n",
    "import os\n",
    "import json\n",
    "import time"
   ]
  },
  {
   "cell_type": "markdown",
   "id": "exotic-despite",
   "metadata": {},
   "source": [
    "## Set UP AZURE API"
   ]
  },
  {
   "cell_type": "code",
   "execution_count": 43,
   "id": "prospective-duration",
   "metadata": {},
   "outputs": [],
   "source": [
    "from azure.cognitiveservices.vision.computervision import ComputerVisionClient\n",
    "from azure.cognitiveservices.vision.computervision.models import OperationStatusCodes\n",
    "from azure.cognitiveservices.vision.computervision.models import VisualFeatureTypes\n",
    "from msrest.authentication import CognitiveServicesCredentials\n",
    "\n",
    "from array import array\n",
    "import os\n",
    "from PIL import Image\n",
    "import sys\n",
    "import time\n",
    "global subscription_key\n",
    "global endpoint\n",
    "subscription_key = \"<Removed>\"\n",
    "endpoint = \"https://azurehackforaccessibility.cognitiveservices.azure.com/\"\n",
    "computervision_client = ComputerVisionClient(endpoint, CognitiveServicesCredentials(subscription_key))\n",
    "local_image_path = \"/Users/kunal/Documents/AzureCompetition/Testing_img_NEW290_.jpg\""
   ]
  },
  {
   "cell_type": "markdown",
   "id": "amazing-laser",
   "metadata": {},
   "source": [
    "## Set-up Selenium"
   ]
  },
  {
   "cell_type": "code",
   "execution_count": 26,
   "id": "provincial-family",
   "metadata": {},
   "outputs": [
    {
     "name": "stderr",
     "output_type": "stream",
     "text": [
      "[WDM] - Current google-chrome version is 88.0.4324\n",
      "[WDM] - Get LATEST driver version for 88.0.4324\n",
      "[WDM] - Driver [C:\\Users\\kunal\\.wdm\\drivers\\chromedriver\\win32\\88.0.4324.96\\chromedriver.exe] found in cache\n"
     ]
    },
    {
     "name": "stdout",
     "output_type": "stream",
     "text": [
      " \n"
     ]
    }
   ],
   "source": [
    "from selenium import webdriver\n",
    "from webdriver_manager.chrome import ChromeDriverManager\n",
    "from selenium.webdriver.common.keys import Keys"
   ]
  },
  {
   "cell_type": "code",
   "execution_count": 28,
   "id": "liked-choice",
   "metadata": {},
   "outputs": [],
   "source": [
    "driver.quit()"
   ]
  },
  {
   "cell_type": "markdown",
   "id": "dedicated-pixel",
   "metadata": {},
   "source": [
    "## Paths Managment"
   ]
  },
  {
   "cell_type": "code",
   "execution_count": 48,
   "id": "victorian-material",
   "metadata": {},
   "outputs": [],
   "source": [
    "global filePaths \n",
    "filePaths = \"/Users/kunal/Documents/AzureCompetition\""
   ]
  },
  {
   "cell_type": "markdown",
   "id": "hollow-renewal",
   "metadata": {},
   "source": [
    "# Street View API Pictures"
   ]
  },
  {
   "cell_type": "code",
   "execution_count": 49,
   "id": "occasional-viking",
   "metadata": {},
   "outputs": [],
   "source": [
    "def callAPI(heading, lat, long, pitch, fov, radius,source):\n",
    "    #print(\"Calls the streetview API\")\n",
    "    pic_base = 'https://maps.googleapis.com/maps/api/streetview?'\n",
    "    api_key = '<Removed>'\n",
    "    size = '640x640'\n",
    "    lat = lat\n",
    "    long = long\n",
    "    radius=radius\n",
    "    source=source\n",
    "    picLINK = pic_base+\"size=\"+str(size)+\"&\"+\"location=\"+str(lat)+\",\"+str(long)+\"&\"+\"heading=\"+str(heading)+\"&\"+\"pitch=\"+str(pitch)+\"&\"+\"fov=\"+str(fov)+\"&\"+\"radius=\"+str(radius)+\"&\"+\"source=\"+str(source)+\"&\"+\"key=\"+str(api_key)\n",
    "    pic_response = requests.get(picLINK) #This costs Money to run this cell as it does call the API\n",
    "    return pic_response"
   ]
  },
  {
   "cell_type": "code",
   "execution_count": 50,
   "id": "nearby-catalyst",
   "metadata": {},
   "outputs": [],
   "source": [
    "def downloadpic(heading, lat, long, pitch, fov,radius,source, printINFO = False, display = False):\n",
    "    #print(\"Calls the streetview API and saves it\")\n",
    "    pic_response = callAPI(heading, lat, long, pitch, fov, radius,source)\n",
    "    if printINFO == True:\n",
    "        for key, value in pic_response.headers.items():\n",
    "            print(f\"{key}: {value}\")\n",
    "    if not pic_response.ok:\n",
    "        for key, value in pic_response.headers.items():\n",
    "            print(f\"{key}: {value}\")\n",
    "        raise Exception(\"Picture doesn't exist and there is an error\")\n",
    "    filename = \"img_H\"+str(heading)+\"_P\"+str(pitch)+\"_F\"+str(fov)+\"_\"+str(lat)+\"_\"+str(long) + \".jpg\"\n",
    "    with open(filename, 'wb') as file:\n",
    "        file.write(pic_response.content)\n",
    "    pic_response.close()\n",
    "    print(\"Saved \"+ filename)\n",
    "    if display == True:\n",
    "        # using matpltolib to display the image\n",
    "        import matplotlib.pyplot as plt\n",
    "        import matplotlib.image as mpimg\n",
    "        plt.figure(figsize=(10, 10))\n",
    "        img=mpimg.imread(fileName)\n",
    "        imgplot = plt.imshow(img)\n",
    "        plt.show()\n",
    "    return filename"
   ]
  },
  {
   "cell_type": "code",
   "execution_count": 51,
   "id": "broken-treat",
   "metadata": {},
   "outputs": [],
   "source": [
    "def metaDataforPIC(lat, long, heading, pitch, fov, radius, source):\n",
    "    size = '640x640'\n",
    "    api_key = '<Removed>'\n",
    "    #print(\"Using same data from street view API it returns data like detailed LAT long and pano ID and other things\")\n",
    "    meta_base = 'https://maps.googleapis.com/maps/api/streetview/metadata?'\n",
    "    metaDataLink = meta_base+\"size=\"+str(size)+\"&\"+\"location=\"+str(lat)+\",\"+str(long)+\"&\"+\"heading=\"+str(heading)+\"&\"+\"pitch=\"+str(pitch)+\"&\"+\"fov=\"+str(fov)+\"&\"+\"radius=\"+str(radius)+\"&\"+\"source=\"+str(source)+\"&\"+\"key=\"+str(api_key)\n",
    "    meta_response = requests.get(metaDataLink)\n",
    "    return meta_response.json()"
   ]
  },
  {
   "cell_type": "markdown",
   "id": "minute-guatemala",
   "metadata": {},
   "source": [
    "# Lat Long Managment"
   ]
  },
  {
   "cell_type": "code",
   "execution_count": 84,
   "id": "otherwise-virgin",
   "metadata": {},
   "outputs": [],
   "source": [
    "def latlongToAddy(lat,long):\n",
    "    #print(\"Opens Selenium and converts Lat long number to address and returns string address\")\n",
    "    driver = webdriver.Chrome(ChromeDriverManager().install())\n",
    "    driver.get(\"https://www.latlong.net/Show-Latitude-Longitude.html\")\n",
    "    lat = \"/html/body/main/div[2]/div[1]/form/div[1]/div[1]/input\"\n",
    "    long = \"/html/body/main/div[2]/div[1]/form/div[1]/div[2]/input\"\n",
    "    convert = \"/html/body/main/div[2]/div[1]/form/div[1]/div[3]/button\"\n",
    "    answer = \"/html/body/main/div[2]/div[1]/form/div[2]\"\n",
    "    latNum = str(lat)\n",
    "    longNum = str(long)\n",
    "    driver.find_element_by_xpath(lat).send_keys(Keys.CONTROL, 'a')\n",
    "    driver.find_element_by_xpath(lat).send_keys(latNum)\n",
    "    driver.find_element_by_xpath(long).send_keys(Keys.CONTROL, 'a')\n",
    "    time.sleep(0.5)\n",
    "    driver.find_element_by_xpath(long).send_keys(longNum)\n",
    "    driver.find_element_by_xpath(convert).send_keys(Keys.ENTER)\n",
    "    addy = driver.find_element_by_xpath(answer).text\n",
    "    driver.quit()\n",
    "    return addy"
   ]
  },
  {
   "cell_type": "code",
   "execution_count": 53,
   "id": "standard-method",
   "metadata": {},
   "outputs": [],
   "source": [
    "def addytoLatLong(city, country):\n",
    "    from geopy.geocoders import Nominatim\n",
    "    geolocator = Nominatim(user_agent=\"my_user_agent\")\n",
    "    loc = geolocator.geocode(city+','+ country)\n",
    "    latNumCalculated = loc.latitude\n",
    "    longNumCalculated = loc.longitude\n",
    "    return latNumCalculated, longNumCalculated"
   ]
  },
  {
   "cell_type": "markdown",
   "id": "unavailable-productivity",
   "metadata": {},
   "source": [
    "# Azure API Managment"
   ]
  },
  {
   "cell_type": "code",
   "execution_count": 54,
   "id": "amateur-rolling",
   "metadata": {},
   "outputs": [],
   "source": [
    "def tagIMG(local_image_path):\n",
    "    #print(\"Calls Azure API for tagging image and returns \\n1)2D array [tag name, confid, hint] \\n2)width \\n3) height \\n4)format \\n5)requestID\")\n",
    "    local_image = open(local_image_path, \"rb\")\n",
    "    tags_result_local = computervision_client.tag_image_in_stream(local_image)\n",
    "    returnArray = []\n",
    "    for tag in tags_result_local.tags:\n",
    "        returnArray.append([tag.name, tag.confidence * 100, tag.hint])\n",
    "        #print(\"\\t'{}' with confidence {:.2f}% and with hints of {}\".format(tag.name, tag.confidence * 100, tag.hint))\n",
    "    #print(\"== MetaData ==\")\n",
    "    #print(\"\\tWidth: \"+str(tags_result_local.metadata.width))\n",
    "    #print(\"\\tHeight: \"+str(tags_result_local.metadata.height))\n",
    "    #print(\"\\tFormat: \"+tags_result_local.metadata.format)\n",
    "    #print(\"\\tRequest ID: \"+tags_result_local.request_id)\n",
    "    return returnArray, tags_result_local.metadata.width, tags_result_local.metadata.height, tags_result_local.metadata.format, tags_result_local.request_id"
   ]
  },
  {
   "cell_type": "code",
   "execution_count": 55,
   "id": "intermediate-tucson",
   "metadata": {},
   "outputs": [],
   "source": [
    "def describeIMG(local_image_path):\n",
    "    #print(\"Calls Azure API for describition of image and returns \\n1)2D array [caption, confid] \\n2)tags in array \\n3)requestID\")\n",
    "    local_image = open(local_image_path, \"rb\")\n",
    "    description_result = computervision_client.describe_image_in_stream(local_image)\n",
    "    #print(\"== Description ==\")\n",
    "    #if (len(description_result.captions) == 0):\n",
    "        #print(\"No description detected.\")\n",
    "    #else:\n",
    "    returnArrayCaption = []\n",
    "    for caption in description_result.captions:\n",
    "        #print(\"\\t'{}' with confidence {:.2f}%\".format(caption.text, caption.confidence * 100))\n",
    "        returnArrayCaption.append([caption.text, caption.confidence * 100])\n",
    "    #print(\"== TAGS ==\")\n",
    "    returnArrayTags = []\n",
    "    for i in description_result.tags:\n",
    "        returnArrayTags.append(i)\n",
    "        #print(\"\\tTags: {}\".format(i))\n",
    "    #print(\"REQUEST ID: {}\".format(description_result.request_id))\n",
    "    return returnArrayCaption, returnArrayTags, description_result.request_id"
   ]
  },
  {
   "cell_type": "code",
   "execution_count": 56,
   "id": "color-morris",
   "metadata": {},
   "outputs": [],
   "source": [
    "def getObjs(local_image_path):\n",
    "    #print(\"Calls Azure API for ojects in image and returns \\n1)2D Array [X,Y,W,H] \\n2)RequestID\")\n",
    "    local_image_path_objects = local_image_path\n",
    "    local_image_objects = open(local_image_path_objects, \"rb\")\n",
    "    detect_objects_results_local = computervision_client.detect_objects_in_stream(local_image_objects)\n",
    "    #print(\"Detecting objects in local image:\")\n",
    "    #if len(detect_objects_results_local.objects) == 0:\n",
    "        #print(\"No objects detected.\")\n",
    "    #else:\n",
    "    returnArrayOBJ = []\n",
    "    for object in detect_objects_results_local.objects:\n",
    "        returnArrayOBJ.append([object.rectangle.x, object.rectangle.y, object.rectangle.w, object.rectangle.h])\n",
    "            #print(\"object at location {}, {}, {}, {}\".format( \\\n",
    "            #object.rectangle.x, object.rectangle.x + object.rectangle.w, \\\n",
    "            #object.rectangle.y, object.rectangle.y + object.rectangle.h))\n",
    "    #print(\"REQUEST ID: {}\".format(detect_objects_results_local.request_id))\n",
    "    return returnArrayOBJ, detect_objects_results_local.request_id"
   ]
  },
  {
   "cell_type": "code",
   "execution_count": 57,
   "id": "gothic-rugby",
   "metadata": {},
   "outputs": [],
   "source": [
    "def intreast(local_image_path):\n",
    "    #print(\"Calls Azure API for intreast in image and returns \\n1)Array [X,Y,W,H] \\n2)RequestID\")\n",
    "    local_image = open(local_image_path, \"rb\")\n",
    "    area_interest = computervision_client.get_area_of_interest_in_stream(local_image)\n",
    "\n",
    "    #print(\"Area (X,Y,W,H): {},{},{},{}\".format(area_interest.area_of_interest.x, area_interest.area_of_interest.y, \n",
    "                                               #area_interest.area_of_interest.w, area_interest.area_of_interest.h))\n",
    "    #print(\"REQUEST ID: {}\".format(area_interest.request_id))\n",
    "    return [area_interest.area_of_interest.x, area_interest.area_of_interest.y, area_interest.area_of_interest.w, area_interest.area_of_interest.h], area_interest.request_id"
   ]
  },
  {
   "cell_type": "code",
   "execution_count": 58,
   "id": "cheap-french",
   "metadata": {},
   "outputs": [],
   "source": [
    "def anaylsis(local_image_path):\n",
    "    #print(\"Calls Azure API for anay;sos in image and returns \\n1)2D Array [name, score] \\n2)RequestID\")\n",
    "    local_image = open(local_image_path, \"rb\")\n",
    "    categorize_results_local = computervision_client.analyze_image_in_stream(local_image)\n",
    "    returnArrayCat = []\n",
    "    for i in categorize_results_local.categories:\n",
    "        #print(\"\\tCatogory: {} == Score: {}\".format(i.name, i.score))\n",
    "        returnArrayCat.append([i.name, i.score])\n",
    "        #if i.detail != None:\n",
    "            #for j in i.detail:\n",
    "                #print(j)\n",
    "                #for r in j.celebrities:\n",
    "                    #print(\"\\t\\tCelebrity: {} == Score: {}\".format(r.name, r.confidence))\n",
    "                    #print(\"Face rectangle\")\n",
    "                #for r in j.landmarks:\n",
    "                    #print(\"\\t\\tLandMark: {} == Score: {}\".format(r.name, r.confidence))\n",
    "                    #print(\"Face rectangle\")\n",
    "    #print(\"REQUEST ID: {}\".format(categorize_results_local.request_id))\n",
    "    return returnArrayCat, categorize_results_local.request_id"
   ]
  },
  {
   "cell_type": "markdown",
   "id": "naval-pattern",
   "metadata": {},
   "source": [
    "# EncodeIMG"
   ]
  },
  {
   "cell_type": "code",
   "execution_count": 59,
   "id": "deluxe-sense",
   "metadata": {},
   "outputs": [],
   "source": [
    "import base64\n",
    "\n",
    "def getEncodImg(filename):\n",
    "    with open(filename, 'rb') as binary_file:\n",
    "        binary_file_data = binary_file.read()\n",
    "        base64_encoded_data = base64.b64encode(binary_file_data)\n",
    "        base64_message = base64_encoded_data.decode('utf-8')\n",
    "    return base64_message"
   ]
  },
  {
   "cell_type": "markdown",
   "id": "mounted-dutch",
   "metadata": {},
   "source": [
    "# Calling it All - Need to change"
   ]
  },
  {
   "cell_type": "code",
   "execution_count": 60,
   "id": "split-knitting",
   "metadata": {},
   "outputs": [],
   "source": [
    "def createJSON(direction, pathIMG, pitch, fov):\n",
    "    imgTagging1Name = \"\"\n",
    "    imgTagging1Confid = \"\"\n",
    "    imgTagging1Hint = \"\"\n",
    "    imgTagging2Name = \"\"\n",
    "    imgTagging2Confid = \"\"\n",
    "    imgTagging2Hint = \"\"\n",
    "    imgTagging3Name = \"\"\n",
    "    imgTagging3Confid = \"\"\n",
    "    imgTagging3Hint = \"\"\n",
    "    imgTagging4Name = \"\"\n",
    "    imgTagging4Confid = \"\"\n",
    "    imgTagging4Hint = \"\"\n",
    "    imgTagging5Name = \"\"\n",
    "    imgTagging5Confid = \"\"\n",
    "    imgTagging5Hint = \"\"\n",
    "    imgTagging6Name = \"\"\n",
    "    imgTagging6Confid = \"\"\n",
    "    imgTagging6Hint = \"\"\n",
    "    imgTagging7Name = \"\"\n",
    "    imgTagging7Confid = \"\"\n",
    "    imgTagging7Hint = \"\"\n",
    "    imgTagging8Name = \"\"\n",
    "    imgTagging8Confid = \"\"\n",
    "    imgTagging8Hint = \"\"\n",
    "    imgTagging9Name = \"\"\n",
    "    imgTagging9Confid = \"\"\n",
    "    imgTagging9Hint = \"\"\n",
    "    imgTagging10Name = \"\"\n",
    "    imgTagging10Confid = \"\"\n",
    "    imgTagging10Hint = \"\"\n",
    "    anaylsisImg1Name = \"\"\n",
    "    anaylsisImg1Score = \"\"\n",
    "    anaylsisImg2Name = \"\"\n",
    "    anaylsisImg2Score = \"\"\n",
    "    anaylsisImg3Name = \"\"\n",
    "    anaylsisImg3Score = \"\"\n",
    "    anaylsisImg4Name = \"\"\n",
    "    anaylsisImg4Score = \"\"\n",
    "    anaylsisImg5Name = \"\"\n",
    "    anaylsisImg5Score = \"\"\n",
    "    \n",
    "    objectboundingBoxOBJ_1 = []\n",
    "    objectboundingBoxOBJ_2 = []\n",
    "    objsArray , objectsRequestID = getObjs(pathIMG)\n",
    "    if len(objsArray) == 0:\n",
    "        objectboundingBoxOBJ_1 = [0,0,0,0]\n",
    "        objectboundingBoxOBJ_2 = [0,0,0,0]\n",
    "    elif len(objsArray) == 1:\n",
    "        objectboundingBoxOBJ_1 = objsArray[0]\n",
    "        objectboundingBoxOBJ_2 = [0,0,0,0]\n",
    "    else: \n",
    "        objectboundingBoxOBJ_1 = objsArray[0]\n",
    "        objectboundingBoxOBJ_2 = objsArray[1]\n",
    "    #--------------------------------------------------------\n",
    "    encodedImg1 = getEncodImg(pathIMG)\n",
    "    pitchImg1 = pitch\n",
    "    fovImg1 = fov\n",
    "    tagsArray,metaWidth,metaHeight,metaFormat,imgTaggingRequestId = tagIMG(pathIMG)  \n",
    "    try:\n",
    "        imgTagging1Name = tagsArray[0][0]\n",
    "        imgTagging1Confid = tagsArray[0][1]\n",
    "        imgTagging1Hint = tagsArray[0][2]\n",
    "    except:\n",
    "        pass\n",
    "    try:\n",
    "        imgTagging2Name = tagsArray[1][0]\n",
    "        imgTagging2Confid = tagsArray[1][1]\n",
    "        imgTagging2Hint = tagsArray[1][2]\n",
    "    except:\n",
    "        pass\n",
    "    try:\n",
    "        imgTagging3Name = tagsArray[2][0]\n",
    "        imgTagging3Confid = tagsArray[2][1]\n",
    "        imgTagging3Hint = tagsArray[2][2]\n",
    "    except:\n",
    "        pass\n",
    "    try:\n",
    "        imgTagging4Name = tagsArray[3][0]\n",
    "        imgTagging4Confid = tagsArray[3][1]\n",
    "        imgTagging4Hint = tagsArray[3][2]\n",
    "    except:\n",
    "        pass\n",
    "    try:\n",
    "        imgTagging5Name = tagsArray[4][0]\n",
    "        imgTagging5Confid = tagsArray[4][1]\n",
    "        imgTagging5Hint = tagsArray[4][2]\n",
    "    except:\n",
    "        pass\n",
    "    try:\n",
    "        imgTagging6Name = tagsArray[5][0]\n",
    "        imgTagging6Confid = tagsArray[5][1]\n",
    "        imgTagging6Hint = tagsArray[5][2]\n",
    "    except:\n",
    "        pass\n",
    "    try:\n",
    "        imgTagging7Name = tagsArray[6][0]\n",
    "        imgTagging7Confid = tagsArray[6][1]\n",
    "        imgTagging7Hint = tagsArray[6][2]\n",
    "    except:\n",
    "        pass\n",
    "    try:\n",
    "        imgTagging8Name = tagsArray[7][0]\n",
    "        imgTagging8Confid = tagsArray[7][1]\n",
    "        imgTagging8Hint = tagsArray[7][2]\n",
    "    except:\n",
    "        pass\n",
    "    try:\n",
    "        imgTagging9Name = tagsArray[8][0]\n",
    "        imgTagging9Confid = tagsArray[8][1]\n",
    "        imgTagging9Hint = tagsArray[8][2]\n",
    "    except:\n",
    "        pass\n",
    "    try:\n",
    "        imgTagging10Name = tagsArray[9][0]\n",
    "        imgTagging10Confid = tagsArray[9][1]\n",
    "        imgTagging10Hint = tagsArray[9][2]\n",
    "    except:\n",
    "        pass\n",
    "    \n",
    "    descArray, describeTagsArray, describeImgRequestID = describeIMG(filenameetst)\n",
    "    describeImgtext = descArray[0][0]\n",
    "    describeImgcondif = descArray[0][1]\n",
    "    \n",
    "    areaIntreastArray, areaIntreastRequestID = intreast(filenameetst)\n",
    "    \n",
    "    anaylsisArray,anaylsisRequestID= anaylsis(filenameetst)\n",
    "    try:\n",
    "        anaylsisImg1Name = anaylsisArray[0][0]\n",
    "        anaylsisImg1Score = anaylsisArray[0][1]\n",
    "    except:\n",
    "        pass\n",
    "    try:\n",
    "        anaylsisImg2Name = anaylsisArray[1][0]\n",
    "        anaylsisImg2Score = anaylsisArray[1][1]\n",
    "    except:\n",
    "        pass\n",
    "    try:\n",
    "        anaylsisImg3Name = anaylsisArray[2][0]\n",
    "        anaylsisImg3Score = anaylsisArray[2][1]\n",
    "    except:\n",
    "        pass\n",
    "    try:\n",
    "        anaylsisImg4Name = anaylsisArray[3][0]\n",
    "        anaylsisImg4Score = anaylsisArray[3][1]\n",
    "    except:\n",
    "        pass\n",
    "    try:\n",
    "        anaylsisImg5Name = anaylsisArray[4][0]\n",
    "        anaylsisImg5Score = anaylsisArray[4][1]\n",
    "    except:\n",
    "        pass\n",
    "    baseDict = {\n",
    "       \"Direction_Degrees\": direction,\n",
    "       \"EncodedImg\": str(encodedImg1),\n",
    "       \"Pitch\": pitchImg1,\n",
    "       \"ZoomAndFov\": fovImg1,\n",
    "       \"CalculatedOutputAzure\" : {\n",
    "           \"ImageTagging\": {\n",
    "               \"Tags\": {\n",
    "                        imgTagging1Name: {\n",
    "                                         \"Confidence\": imgTagging1Confid,\n",
    "                                         \"Hint\": imgTagging1Hint\n",
    "                        }, imgTagging2Name: {\n",
    "                                         \"Confidence\": imgTagging2Confid,\n",
    "                                         \"Hint\": imgTagging2Hint\n",
    "                        }, imgTagging3Name: {\n",
    "                                         \"Confidence\": imgTagging3Confid,\n",
    "                                         \"Hint\": imgTagging3Hint\n",
    "                        }, imgTagging4Name: {\n",
    "                                         \"Confidence\": imgTagging4Confid,\n",
    "                                         \"Hint\": imgTagging4Hint\n",
    "                        }, imgTagging5Name: {\n",
    "                                         \"Confidence\": imgTagging5Confid,\n",
    "                                         \"Hint\": imgTagging5Hint\n",
    "                        }, imgTagging6Name: {\n",
    "                                         \"Confidence\": imgTagging6Confid,\n",
    "                                         \"Hint\": imgTagging6Hint\n",
    "                        }, imgTagging7Name: {\n",
    "                                         \"Confidence\": imgTagging7Confid,\n",
    "                                         \"Hint\": imgTagging7Hint\n",
    "                        }, imgTagging8Name: {\n",
    "                                         \"Confidence\": imgTagging8Confid,\n",
    "                                         \"Hint\": imgTagging8Hint\n",
    "                        }, imgTagging9Name: {\n",
    "                                         \"Confidence\": imgTagging9Confid,\n",
    "                                         \"Hint\": imgTagging9Hint\n",
    "                        }, imgTagging10Name: {\n",
    "                                         \"Confidence\": imgTagging10Confid,\n",
    "                                         \"Hint\": imgTagging10Hint\n",
    "                        }, \n",
    "                    },\n",
    "                \"RequestID\": str(imgTaggingRequestId)\n",
    "               }, \"DescribeImg\": {\n",
    "                    \"Description\": {\n",
    "                        \"Text\": str(describeImgtext),\n",
    "                        \"Confidence\": describeImgcondif\n",
    "                    },\n",
    "                    \"Tags\": describeTagsArray,\n",
    "                    \"RequestID\": str(describeImgRequestID)\n",
    "               }, \"AnalysisImg\": {\n",
    "                    \"Analysis\": {\n",
    "                        str(anaylsisImg1Name): {\n",
    "                            \"Score\": anaylsisImg1Score\n",
    "                        },str(anaylsisImg2Name): {\n",
    "                            \"Score\": anaylsisImg2Score\n",
    "                        },str(anaylsisImg3Name): {\n",
    "                            \"Score\": anaylsisImg3Score\n",
    "                        },str(anaylsisImg4Name): {\n",
    "                            \"Score\": anaylsisImg4Score\n",
    "                        },str(anaylsisImg5Name): {\n",
    "                            \"Score\": anaylsisImg5Score\n",
    "                        }\n",
    "\n",
    "                    },\n",
    "                    \"RequestID\": str(anaylsisRequestID)\n",
    "                }, \"ObjectsImg\": {\n",
    "                    \"Objects\": {\n",
    "                        \"BoundingBox_XYWH_1\": objectboundingBoxOBJ_1,\n",
    "                        \"BoundingBox_XYWH_2\": objectboundingBoxOBJ_2\n",
    "                    },\n",
    "                    \"RequestID\": objectsRequestID\n",
    "                },\"AreaIntreast\": {\n",
    "                    \"IntreastLocation_XYWH\": areaIntreastArray,\n",
    "                    \"RequestID\": str(areaIntreastRequestID)\n",
    "                },\n",
    "                \"MetaData\": {\n",
    "                    \"Width\": str(metaWidth),\n",
    "                    \"Height\": str(metaHeight),\n",
    "                    \"Format\": str(metaFormat)\n",
    "                }\n",
    "           }\n",
    "       }\n",
    "    return baseDict"
   ]
  },
  {
   "cell_type": "code",
   "execution_count": 75,
   "id": "perfect-shore",
   "metadata": {},
   "outputs": [],
   "source": [
    "def savePics(lat,long):\n",
    "    os.chdir(filePaths)\n",
    "    os.mkdir(\"IMG_\" + str(lat) + \"_\" + str(long))\n",
    "    os.chdir(\"IMG_\" + str(lat) + \"_\" + str(long))\n",
    "    print(\"Created: \"+ \"IMGS_\" + str(lat) + \"_\" + str(long))\n",
    "    headings = [0,90,180,270]\n",
    "    pitch = 0\n",
    "    fov = 75\n",
    "    radius = 50\n",
    "    source =\"outdoor\"\n",
    "    fileNamesLst = []\n",
    "    dictionarysALL = []\n",
    "    for dire in headings:\n",
    "        name = downloadpic(dire, lat, long, pitch, fov,radius,source)\n",
    "        fileNamesLst.append(name)\n",
    "        dictionarysALL.append(createJSON(dire, name, pitch, fov))\n",
    "\n",
    "    metaResult = metaDataforPIC(lat, long, 0, pitch, fov, radius, source)\n",
    "    \n",
    "    titleName = \"Location_\" + str(lat) + \"_\" + str(long)\n",
    "    panoID = metaResult['pano_id']\n",
    "    address = latlongToAddy(lat,long)\n",
    "    \n",
    "    \n",
    "    \n",
    "    dictionary = {titleName: \n",
    "                  {\"LocationInformation\" : \n",
    "                   {\"PanoID\": str(panoID),\n",
    "                    \"Latitude\": lat,\n",
    "                    \"Longitude\": long,\n",
    "                    \"Address\": str(address) \n",
    "                   }, \n",
    "                    \"Img1_0\" : dictionarysALL[0],\n",
    "                    \"Img2_90\" : dictionarysALL[1],\n",
    "                    \"Img3_180\" : dictionarysALL[2],\n",
    "                    \"Img4_270\" : dictionarysALL[3]\n",
    "                  }\n",
    "                }\n",
    "\n",
    "    jsonString = json.dumps(dictionary, indent=4)\n",
    "    \n",
    "    print(jsonString)\n",
    "    with open('data.json', 'w') as f:\n",
    "        json.dump(jsonString, f)\n",
    "    return jsonString\n",
    "    os.chdir(filePaths)"
   ]
  },
  {
   "cell_type": "code",
   "execution_count": 92,
   "id": "dress-finish",
   "metadata": {},
   "outputs": [],
   "source": [
    "lat = 33.7748583\n",
    "long=-84.3931146"
   ]
  },
  {
   "cell_type": "code",
   "execution_count": 93,
   "id": "upset-berlin",
   "metadata": {
    "scrolled": true
   },
   "outputs": [
    {
     "name": "stdout",
     "output_type": "stream",
     "text": [
      "Created: IMGS_33.7748583_-84.3931146\n",
      "Saved img_H0_P0_F75_33.7748583_-84.3931146.jpg\n"
     ]
    },
    {
     "ename": "ComputerVisionErrorException",
     "evalue": "Operation returned an invalid status code 'Too Many Requests'",
     "output_type": "error",
     "traceback": [
      "\u001b[1;31m---------------------------------------------------------------------------\u001b[0m",
      "\u001b[1;31mComputerVisionErrorException\u001b[0m              Traceback (most recent call last)",
      "\u001b[1;32m<ipython-input-93-94d483b3752c>\u001b[0m in \u001b[0;36m<module>\u001b[1;34m\u001b[0m\n\u001b[1;32m----> 1\u001b[1;33m \u001b[0mJSON\u001b[0m \u001b[1;33m=\u001b[0m \u001b[0msavePics\u001b[0m\u001b[1;33m(\u001b[0m\u001b[0mlat\u001b[0m\u001b[1;33m,\u001b[0m \u001b[0mlong\u001b[0m\u001b[1;33m)\u001b[0m\u001b[1;33m\u001b[0m\u001b[1;33m\u001b[0m\u001b[0m\n\u001b[0m",
      "\u001b[1;32m<ipython-input-75-100566a672b2>\u001b[0m in \u001b[0;36msavePics\u001b[1;34m(lat, long)\u001b[0m\n\u001b[0;32m     14\u001b[0m         \u001b[0mname\u001b[0m \u001b[1;33m=\u001b[0m \u001b[0mdownloadpic\u001b[0m\u001b[1;33m(\u001b[0m\u001b[0mdire\u001b[0m\u001b[1;33m,\u001b[0m \u001b[0mlat\u001b[0m\u001b[1;33m,\u001b[0m \u001b[0mlong\u001b[0m\u001b[1;33m,\u001b[0m \u001b[0mpitch\u001b[0m\u001b[1;33m,\u001b[0m \u001b[0mfov\u001b[0m\u001b[1;33m,\u001b[0m\u001b[0mradius\u001b[0m\u001b[1;33m,\u001b[0m\u001b[0msource\u001b[0m\u001b[1;33m)\u001b[0m\u001b[1;33m\u001b[0m\u001b[1;33m\u001b[0m\u001b[0m\n\u001b[0;32m     15\u001b[0m         \u001b[0mfileNamesLst\u001b[0m\u001b[1;33m.\u001b[0m\u001b[0mappend\u001b[0m\u001b[1;33m(\u001b[0m\u001b[0mname\u001b[0m\u001b[1;33m)\u001b[0m\u001b[1;33m\u001b[0m\u001b[1;33m\u001b[0m\u001b[0m\n\u001b[1;32m---> 16\u001b[1;33m         \u001b[0mdictionarysALL\u001b[0m\u001b[1;33m.\u001b[0m\u001b[0mappend\u001b[0m\u001b[1;33m(\u001b[0m\u001b[0mcreateJSON\u001b[0m\u001b[1;33m(\u001b[0m\u001b[0mdire\u001b[0m\u001b[1;33m,\u001b[0m \u001b[0mname\u001b[0m\u001b[1;33m,\u001b[0m \u001b[0mpitch\u001b[0m\u001b[1;33m,\u001b[0m \u001b[0mfov\u001b[0m\u001b[1;33m)\u001b[0m\u001b[1;33m)\u001b[0m\u001b[1;33m\u001b[0m\u001b[1;33m\u001b[0m\u001b[0m\n\u001b[0m\u001b[0;32m     17\u001b[0m \u001b[1;33m\u001b[0m\u001b[0m\n\u001b[0;32m     18\u001b[0m     \u001b[0mmetaResult\u001b[0m \u001b[1;33m=\u001b[0m \u001b[0mmetaDataforPIC\u001b[0m\u001b[1;33m(\u001b[0m\u001b[0mlat\u001b[0m\u001b[1;33m,\u001b[0m \u001b[0mlong\u001b[0m\u001b[1;33m,\u001b[0m \u001b[1;36m0\u001b[0m\u001b[1;33m,\u001b[0m \u001b[0mpitch\u001b[0m\u001b[1;33m,\u001b[0m \u001b[0mfov\u001b[0m\u001b[1;33m,\u001b[0m \u001b[0mradius\u001b[0m\u001b[1;33m,\u001b[0m \u001b[0msource\u001b[0m\u001b[1;33m)\u001b[0m\u001b[1;33m\u001b[0m\u001b[1;33m\u001b[0m\u001b[0m\n",
      "\u001b[1;32m<ipython-input-60-44e212b8f9a3>\u001b[0m in \u001b[0;36mcreateJSON\u001b[1;34m(direction, pathIMG, pitch, fov)\u001b[0m\n\u001b[0;32m     43\u001b[0m     \u001b[0mobjectboundingBoxOBJ_1\u001b[0m \u001b[1;33m=\u001b[0m \u001b[1;33m[\u001b[0m\u001b[1;33m]\u001b[0m\u001b[1;33m\u001b[0m\u001b[1;33m\u001b[0m\u001b[0m\n\u001b[0;32m     44\u001b[0m     \u001b[0mobjectboundingBoxOBJ_2\u001b[0m \u001b[1;33m=\u001b[0m \u001b[1;33m[\u001b[0m\u001b[1;33m]\u001b[0m\u001b[1;33m\u001b[0m\u001b[1;33m\u001b[0m\u001b[0m\n\u001b[1;32m---> 45\u001b[1;33m     \u001b[0mobjsArray\u001b[0m \u001b[1;33m,\u001b[0m \u001b[0mobjectsRequestID\u001b[0m \u001b[1;33m=\u001b[0m \u001b[0mgetObjs\u001b[0m\u001b[1;33m(\u001b[0m\u001b[0mpathIMG\u001b[0m\u001b[1;33m)\u001b[0m\u001b[1;33m\u001b[0m\u001b[1;33m\u001b[0m\u001b[0m\n\u001b[0m\u001b[0;32m     46\u001b[0m     \u001b[1;32mif\u001b[0m \u001b[0mlen\u001b[0m\u001b[1;33m(\u001b[0m\u001b[0mobjsArray\u001b[0m\u001b[1;33m)\u001b[0m \u001b[1;33m==\u001b[0m \u001b[1;36m0\u001b[0m\u001b[1;33m:\u001b[0m\u001b[1;33m\u001b[0m\u001b[1;33m\u001b[0m\u001b[0m\n\u001b[0;32m     47\u001b[0m         \u001b[0mobjectboundingBoxOBJ_1\u001b[0m \u001b[1;33m=\u001b[0m \u001b[1;33m[\u001b[0m\u001b[1;36m0\u001b[0m\u001b[1;33m,\u001b[0m\u001b[1;36m0\u001b[0m\u001b[1;33m,\u001b[0m\u001b[1;36m0\u001b[0m\u001b[1;33m,\u001b[0m\u001b[1;36m0\u001b[0m\u001b[1;33m]\u001b[0m\u001b[1;33m\u001b[0m\u001b[1;33m\u001b[0m\u001b[0m\n",
      "\u001b[1;32m<ipython-input-56-5cf06f486725>\u001b[0m in \u001b[0;36mgetObjs\u001b[1;34m(local_image_path)\u001b[0m\n\u001b[0;32m      3\u001b[0m     \u001b[0mlocal_image_path_objects\u001b[0m \u001b[1;33m=\u001b[0m \u001b[0mlocal_image_path\u001b[0m\u001b[1;33m\u001b[0m\u001b[1;33m\u001b[0m\u001b[0m\n\u001b[0;32m      4\u001b[0m     \u001b[0mlocal_image_objects\u001b[0m \u001b[1;33m=\u001b[0m \u001b[0mopen\u001b[0m\u001b[1;33m(\u001b[0m\u001b[0mlocal_image_path_objects\u001b[0m\u001b[1;33m,\u001b[0m \u001b[1;34m\"rb\"\u001b[0m\u001b[1;33m)\u001b[0m\u001b[1;33m\u001b[0m\u001b[1;33m\u001b[0m\u001b[0m\n\u001b[1;32m----> 5\u001b[1;33m     \u001b[0mdetect_objects_results_local\u001b[0m \u001b[1;33m=\u001b[0m \u001b[0mcomputervision_client\u001b[0m\u001b[1;33m.\u001b[0m\u001b[0mdetect_objects_in_stream\u001b[0m\u001b[1;33m(\u001b[0m\u001b[0mlocal_image_objects\u001b[0m\u001b[1;33m)\u001b[0m\u001b[1;33m\u001b[0m\u001b[1;33m\u001b[0m\u001b[0m\n\u001b[0m\u001b[0;32m      6\u001b[0m     \u001b[1;31m#print(\"Detecting objects in local image:\")\u001b[0m\u001b[1;33m\u001b[0m\u001b[1;33m\u001b[0m\u001b[1;33m\u001b[0m\u001b[0m\n\u001b[0;32m      7\u001b[0m     \u001b[1;31m#if len(detect_objects_results_local.objects) == 0:\u001b[0m\u001b[1;33m\u001b[0m\u001b[1;33m\u001b[0m\u001b[1;33m\u001b[0m\u001b[0m\n",
      "\u001b[1;32mc:\\users\\kunal\\appdata\\local\\programs\\python\\python38\\lib\\site-packages\\azure\\cognitiveservices\\vision\\computervision\\operations\\_computer_vision_client_operations.py\u001b[0m in \u001b[0;36mdetect_objects_in_stream\u001b[1;34m(self, image, custom_headers, raw, callback, **operation_config)\u001b[0m\n\u001b[0;32m   1166\u001b[0m \u001b[1;33m\u001b[0m\u001b[0m\n\u001b[0;32m   1167\u001b[0m         \u001b[1;32mif\u001b[0m \u001b[0mresponse\u001b[0m\u001b[1;33m.\u001b[0m\u001b[0mstatus_code\u001b[0m \u001b[1;32mnot\u001b[0m \u001b[1;32min\u001b[0m \u001b[1;33m[\u001b[0m\u001b[1;36m200\u001b[0m\u001b[1;33m]\u001b[0m\u001b[1;33m:\u001b[0m\u001b[1;33m\u001b[0m\u001b[1;33m\u001b[0m\u001b[0m\n\u001b[1;32m-> 1168\u001b[1;33m             \u001b[1;32mraise\u001b[0m \u001b[0mmodels\u001b[0m\u001b[1;33m.\u001b[0m\u001b[0mComputerVisionErrorException\u001b[0m\u001b[1;33m(\u001b[0m\u001b[0mself\u001b[0m\u001b[1;33m.\u001b[0m\u001b[0m_deserialize\u001b[0m\u001b[1;33m,\u001b[0m \u001b[0mresponse\u001b[0m\u001b[1;33m)\u001b[0m\u001b[1;33m\u001b[0m\u001b[1;33m\u001b[0m\u001b[0m\n\u001b[0m\u001b[0;32m   1169\u001b[0m \u001b[1;33m\u001b[0m\u001b[0m\n\u001b[0;32m   1170\u001b[0m         \u001b[0mdeserialized\u001b[0m \u001b[1;33m=\u001b[0m \u001b[1;32mNone\u001b[0m\u001b[1;33m\u001b[0m\u001b[1;33m\u001b[0m\u001b[0m\n",
      "\u001b[1;31mComputerVisionErrorException\u001b[0m: Operation returned an invalid status code 'Too Many Requests'"
     ]
    }
   ],
   "source": [
    "JSON = savePics(lat, long)"
   ]
  },
  {
   "cell_type": "code",
   "execution_count": null,
   "id": "unique-president",
   "metadata": {},
   "outputs": [],
   "source": [
    "db.test.insert_one(JSON)"
   ]
  },
  {
   "cell_type": "code",
   "execution_count": null,
   "id": "harmful-vatican",
   "metadata": {},
   "outputs": [],
   "source": []
  },
  {
   "cell_type": "code",
   "execution_count": null,
   "id": "superior-garden",
   "metadata": {},
   "outputs": [],
   "source": []
  },
  {
   "cell_type": "code",
   "execution_count": null,
   "id": "eight-military",
   "metadata": {},
   "outputs": [],
   "source": []
  },
  {
   "cell_type": "markdown",
   "id": "interstate-methodology",
   "metadata": {},
   "source": [
    "# econdiong\n"
   ]
  },
  {
   "cell_type": "code",
   "execution_count": 87,
   "id": "corrected-split",
   "metadata": {},
   "outputs": [],
   "source": [
    "import pymongo\n",
    "import requests\n",
    "from pymongo import MongoClient  \n",
    "import json"
   ]
  },
  {
   "cell_type": "code",
   "execution_count": 88,
   "id": "brown-giving",
   "metadata": {},
   "outputs": [
    {
     "name": "stdout",
     "output_type": "stream",
     "text": [
      "The database exists.\n"
     ]
    },
    {
     "data": {
      "text/plain": [
       "Collection(Database(MongoClient(host=['cosmos-az.mongo.cosmos.azure.com:10255'], document_class=dict, tz_aware=False, connect=True, ssl=True, replicaset='globaldb', retrywrites=False, maxidletimems=120000, appname='@cosmos-az@'), 'Azure-Hack'), 'test')"
      ]
     },
     "execution_count": 88,
     "metadata": {},
     "output_type": "execute_result"
    }
   ],
   "source": [
    "uri = \"<Removed>\"\n",
    "client = pymongo.MongoClient(uri)\n",
    "dblist = client.list_database_names()\n",
    "if \"Azure-Hack\" in dblist:\n",
    "    print(\"The database exists.\")\n",
    "    db = client[\"Azure-Hack\"]\n",
    "db.test"
   ]
  },
  {
   "cell_type": "code",
   "execution_count": 89,
   "id": "cloudy-newport",
   "metadata": {},
   "outputs": [
    {
     "data": {
      "text/plain": [
       "Collection(Database(MongoClient(host=['cosmos-az.mongo.cosmos.azure.com:10255'], document_class=dict, tz_aware=False, connect=True, ssl=True, replicaset='globaldb', retrywrites=False, maxidletimems=120000, appname='@cosmos-az@'), 'Azure-Hack'), 'data')"
      ]
     },
     "execution_count": 89,
     "metadata": {},
     "output_type": "execute_result"
    }
   ],
   "source": [
    "# Created or Switched to collection\n",
    "Collection = db[\"data\"] \n",
    "\n",
    "Collection\n",
    "#db.test.insert_one({'x': 1})"
   ]
  },
  {
   "cell_type": "markdown",
   "id": "excited-filename",
   "metadata": {},
   "source": [
    "# Ignore Everything Below"
   ]
  },
  {
   "cell_type": "code",
   "execution_count": 78,
   "id": "agricultural-authentication",
   "metadata": {},
   "outputs": [],
   "source": [
    "lat = 3.255234534\n",
    "long = 23.45345345\n",
    "titleName = \"Location_\" + str(lat) + \"_\" + str(long)\n",
    "panoID = \"\"\n",
    "address = \"\"\n",
    "encodedImg1 = \"\"\n",
    "pitchImg1 = \"\"\n",
    "fovImg1 = \"\"\n",
    "#=================================\n",
    "imgTagging1Name = \"\"\n",
    "imgTagging1Confid = \"\"\n",
    "imgTagging1Hint = \"\"\n",
    "#--------------------\n",
    "imgTagging2Name = \"\"\n",
    "imgTagging2Confid = \"\"\n",
    "imgTagging2Hint = \"\"\n",
    "#--------------------\n",
    "imgTagging3Name = \"\"\n",
    "imgTagging3Confid = \"\"\n",
    "imgTagging3Hint = \"\"\n",
    "#--------------------\n",
    "imgTagging4Name = \"\"\n",
    "imgTagging4Confid = \"\"\n",
    "imgTagging4Hint = \"\"\n",
    "#--------------------\n",
    "imgTagging5Name = \"\"\n",
    "imgTagging5Confid = \"\"\n",
    "imgTagging5Hint = \"\"\n",
    "#--------------------\n",
    "imgTagging6Name = \"\"\n",
    "imgTagging6Confid = \"\"\n",
    "imgTagging6Hint = \"\"\n",
    "#--------------------\n",
    "imgTagging7Name = \"\"\n",
    "imgTagging7Confid = \"\"\n",
    "imgTagging7Hint = \"\"\n",
    "#--------------------\n",
    "imgTagging8Name = \"\"\n",
    "imgTagging8Confid = \"\"\n",
    "imgTagging8Hint = \"\"\n",
    "#--------------------\n",
    "imgTagging9Name = \"\"\n",
    "imgTagging9Confid = \"\"\n",
    "imgTagging9Hint = \"\"\n",
    "#--------------------\n",
    "imgTagging10Name = \"\"\n",
    "imgTagging10Confid = \"\"\n",
    "imgTagging10Hint = \"\"\n",
    "imgTaggingRequestId = \"\"\n",
    "#=================================\n",
    "describeImgtext = \"\"\n",
    "describeImgcondif = \"\"\n",
    "describeTagsArray = []\n",
    "describeImgRequestID = \"\"\n",
    "#===============================\n",
    "anaylsisImg1Name = \"\"\n",
    "anaylsisImg1Score = \"\"\n",
    "#--------------------\n",
    "anaylsisImg2Name = \"\"\n",
    "anaylsisImg2Score = \"\"\n",
    "#--------------------\n",
    "anaylsisImg3Name = \"\"\n",
    "anaylsisImg3Score = \"\"\n",
    "#--------------------\n",
    "anaylsisImg4Name = \"\"\n",
    "anaylsisImg4Score = \"\"\n",
    "#--------------------\n",
    "anaylsisImg5Name = \"\"\n",
    "anaylsisImg5Score = \"\"\n",
    "#--------------------\n",
    "anaylsisRequestID = \"\"\n",
    "#===============================\n",
    "objectboundingBoxOBJ_1 = []\n",
    "objectboundingBoxOBJ_2 = []\n",
    "objectsRequestID = \"\"\n",
    "#===============================\n",
    "areaIntreastArray = []\n",
    "areaIntreastRequestID = \"\"\n",
    "#===============================\n",
    "metaWidth = \"\"\n",
    "metaWeight = \"\"\n",
    "metaFormat = \"\""
   ]
  },
  {
   "cell_type": "code",
   "execution_count": 13,
   "id": "dirty-estimate",
   "metadata": {},
   "outputs": [],
   "source": [
    "lat = \"\""
   ]
  },
  {
   "cell_type": "code",
   "execution_count": 17,
   "id": "specialized-applicant",
   "metadata": {},
   "outputs": [],
   "source": [
    "dict1 = {}\n",
    "dict2 = {}\n",
    "dict3 = {}\n",
    "dict4 = {}"
   ]
  },
  {
   "cell_type": "code",
   "execution_count": 20,
   "id": "aware-postage",
   "metadata": {},
   "outputs": [
    {
     "name": "stdout",
     "output_type": "stream",
     "text": [
      "{\n",
      "    \"\": {\n",
      "        \"LocationInformation\": {\n",
      "            \"PanoID\": \"\",\n",
      "            \"Latitude\": \"\",\n",
      "            \"Longitude\": \"\",\n",
      "            \"Address\": \"\"\n",
      "        },\n",
      "        \"Img1_0\": {},\n",
      "        \"Img2_90\": {},\n",
      "        \"Img3_180\": {},\n",
      "        \"Img4_270\": {}\n",
      "    }\n",
      "}\n"
     ]
    }
   ],
   "source": [
    "\n",
    "\n",
    "dictionary = {titleName: \n",
    "              {\"LocationInformation\" : \n",
    "               {\"PanoID\": str(panoID),\n",
    "                \"Latitude\": str(lat),\n",
    "                \"Longitude\": str(lat),\n",
    "                \"Address\": str(address) \n",
    "               }, \n",
    "                \"Img1_0\" : dict1,\n",
    "                \"Img2_90\" : dict1,\n",
    "                \"Img3_180\" : dict1,\n",
    "                \"Img4_270\" : dict1\n",
    "              }\n",
    "            }\n",
    "              \n",
    "#jsonString = json.dumps(dictionary, indent=4)\n",
    "#print(jsonString)"
   ]
  },
  {
   "cell_type": "code",
   "execution_count": null,
   "id": "brilliant-assist",
   "metadata": {},
   "outputs": [],
   "source": []
  },
  {
   "cell_type": "code",
   "execution_count": null,
   "id": "formal-benjamin",
   "metadata": {},
   "outputs": [],
   "source": []
  },
  {
   "cell_type": "code",
   "execution_count": 79,
   "id": "romance-paragraph",
   "metadata": {},
   "outputs": [
    {
     "name": "stdout",
     "output_type": "stream",
     "text": [
      "{\n",
      "    \"Location_3.255234534_23.45345345\": {\n",
      "        \"LocationInformation\": {\n",
      "            \"PanoID\": \"\",\n",
      "            \"Latitude\": \"3.255234534\",\n",
      "            \"Longitude\": \"3.255234534\",\n",
      "            \"Address\": \"\"\n",
      "        },\n",
      "        \"Img1_0\": {\n",
      "            \"Direction_Degrees\": \"0\",\n",
      "            \"PicturePath\": \"\",\n",
      "            \"Pitch\": \"\",\n",
      "            \"ZoomAndFov\": \"\",\n",
      "            \"CalculatedOutputAzure\": {\n",
      "                \"ImageTagging\": {\n",
      "                    \"Tags\": {\n",
      "                        \"\": {\n",
      "                            \"Confidence\": \"\",\n",
      "                            \"Hint\": \"\"\n",
      "                        }\n",
      "                    },\n",
      "                    \"RequestID\": \"\"\n",
      "                },\n",
      "                \"DescribeImg\": {\n",
      "                    \"Description\": {\n",
      "                        \"Text\": \"\",\n",
      "                        \"Confidence\": \"\"\n",
      "                    },\n",
      "                    \"Tags\": [],\n",
      "                    \"RequestID\": \"\"\n",
      "                },\n",
      "                \"AnalysisImg\": {\n",
      "                    \"Analysis\": {\n",
      "                        \"\": {\n",
      "                            \"Score\": \"\"\n",
      "                        }\n",
      "                    },\n",
      "                    \"RequestID\": \"\"\n",
      "                },\n",
      "                \"ObjectsImg\": {\n",
      "                    \"Objects\": {\n",
      "                        \"BoundingBox_XYWH_1\": [],\n",
      "                        \"BoundingBox_XYWH_2\": []\n",
      "                    },\n",
      "                    \"RequestID\": \"\"\n",
      "                },\n",
      "                \"AreaIntreast\": {\n",
      "                    \"IntreastLocation_XYWH\": [],\n",
      "                    \"RequestID\": \"\"\n",
      "                },\n",
      "                \"MetaData\": {\n",
      "                    \"Width\": \"\",\n",
      "                    \"Height\": \"\",\n",
      "                    \"Format\": \"\"\n",
      "                }\n",
      "            }\n",
      "        }\n",
      "    }\n",
      "}\n"
     ]
    }
   ],
   "source": [
    "import json\n",
    "\n",
    "dictionary = {titleName: \n",
    "              {\"LocationInformation\" : \n",
    "               {\"PanoID\": str(panoID),\n",
    "                \"Latitude\": str(lat),\n",
    "                \"Longitude\": str(lat),\n",
    "                \"Address\": str(address) \n",
    "               }, \"Img1_0\" : {\n",
    "                   \"Direction_Degrees\": str(0),\n",
    "                   \"EncodedImg\": str(encodedImg1),\n",
    "                   \"Pitch\": str(pitchImg1),\n",
    "                   \"ZoomAndFov\": str(fovImg1),\n",
    "                   \"CalculatedOutputAzure\" : {\n",
    "                       \"ImageTagging\": {\n",
    "                           \"Tags\": {\n",
    "                                    imgTagging1Name: {\n",
    "                                                     \"Confidence\": imgTagging1Confid,\n",
    "                                                     \"Hint\": imgTagging1Hint\n",
    "                                    }, imgTagging2Name: {\n",
    "                                                     \"Confidence\": imgTagging2Confid,\n",
    "                                                     \"Hint\": imgTagging2Hint\n",
    "                                    }, imgTagging3Name: {\n",
    "                                                     \"Confidence\": imgTagging3Confid,\n",
    "                                                     \"Hint\": imgTagging3Hint\n",
    "                                    }, imgTagging4Name: {\n",
    "                                                     \"Confidence\": imgTagging4Confid,\n",
    "                                                     \"Hint\": imgTagging4Hint\n",
    "                                    }, imgTagging5Name: {\n",
    "                                                     \"Confidence\": imgTagging5Confid,\n",
    "                                                     \"Hint\": imgTagging5Hint\n",
    "                                    }, imgTagging6Name: {\n",
    "                                                     \"Confidence\": imgTagging6Confid,\n",
    "                                                     \"Hint\": imgTagging6Hint\n",
    "                                    }, imgTagging7Name: {\n",
    "                                                     \"Confidence\": imgTagging7Confid,\n",
    "                                                     \"Hint\": imgTagging7Hint\n",
    "                                    }, imgTagging8Name: {\n",
    "                                                     \"Confidence\": imgTagging8Confid,\n",
    "                                                     \"Hint\": imgTagging8Hint\n",
    "                                    }, imgTagging9Name: {\n",
    "                                                     \"Confidence\": imgTagging9Confid,\n",
    "                                                     \"Hint\": imgTagging9Hint\n",
    "                                    }, imgTagging10Name: {\n",
    "                                                     \"Confidence\": imgTagging10Confid,\n",
    "                                                     \"Hint\": imgTagging10Hint\n",
    "                                    }, \n",
    "                                },\n",
    "                            \"RequestID\": str(imgTaggingRequestId)\n",
    "                           }, \"DescribeImg\": {\n",
    "                                \"Description\": {\n",
    "                                    \"Text\": str(describeImgtext),\n",
    "                                    \"Confidence\": str(describeImgcondif)\n",
    "                                },\n",
    "                                \"Tags\": describeTagsArray,\n",
    "                                \"RequestID\": str(describeImgRequestID)\n",
    "                           }, \"AnalysisImg\": {\n",
    "                                \"Analysis\": {\n",
    "                                    str(anaylsisImg1Name): {\n",
    "                                        \"Score\": anaylsisImg1Score\n",
    "                                    },str(anaylsisImg2Name): {\n",
    "                                        \"Score\": anaylsisImg2Score\n",
    "                                    },str(anaylsisImg3Name): {\n",
    "                                        \"Score\": anaylsisImg3Score\n",
    "                                    },str(anaylsisImg4Name): {\n",
    "                                        \"Score\": anaylsisImg4Score\n",
    "                                    },str(anaylsisImg5Name): {\n",
    "                                        \"Score\": anaylsisImg5Score\n",
    "                                    }\n",
    "                                    \n",
    "                                },\n",
    "                                \"RequestID\": str(anaylsisRequestID)\n",
    "                            }, \"ObjectsImg\": {\n",
    "                                \"Objects\": {\n",
    "                                    \"BoundingBox_XYWH_1\": objectboundingBoxOBJ_1,\n",
    "                                    \"BoundingBox_XYWH_2\": objectboundingBoxOBJ_2\n",
    "                                },\n",
    "                                \"RequestID\": objectsRequestID\n",
    "                            },\"AreaIntreast\": {\n",
    "                                \"IntreastLocation_XYWH\": areaIntreastArray,\n",
    "                                \"RequestID\": str(areaIntreastRequestID)\n",
    "                            },\n",
    "                            \"MetaData\": {\n",
    "                                \"Width\": str(metaWidth),\n",
    "                                \"Height\": str(metaHeight),\n",
    "                                \"Format\": str(metaFormat)\n",
    "                            }\n",
    "                       }\n",
    "                   }\n",
    "               }\n",
    "              }\n",
    "              \n",
    "jsonString = json.dumps(dictionary, indent=4)\n",
    "print(jsonString)"
   ]
  },
  {
   "cell_type": "code",
   "execution_count": null,
   "id": "excessive-outline",
   "metadata": {},
   "outputs": [],
   "source": []
  },
  {
   "cell_type": "code",
   "execution_count": null,
   "id": "proud-armor",
   "metadata": {},
   "outputs": [],
   "source": []
  },
  {
   "cell_type": "markdown",
   "id": "level-notebook",
   "metadata": {},
   "source": [
    "# JSON OUTPUT"
   ]
  },
  {
   "cell_type": "code",
   "execution_count": 82,
   "id": "polyphonic-official",
   "metadata": {},
   "outputs": [],
   "source": [
    "\n",
    "\t\t\t\"AreaIntreast\": {\n",
    "\t\t\t\t\"IntreastLocation\": {\n",
    "\t\t\t\t\t\"X\": str(lat),\n",
    "\t\t\t\t\t\"Y\": str(lat),\n",
    "\t\t\t\t\t\"W\": str(lat),\n",
    "\t\t\t\t\t\"H\": str(lat)\n",
    "\t\t\t\t},\n",
    "\t\t\t\t\"RequestID\": str(lat)\n",
    "\t\t\t},\n",
    "\t\t\t\"MetaData\": {\n",
    "\t\t\t\t\"Width\": str(lat),\n",
    "\t\t\t\t\"Height\": str(lat),\n",
    "\t\t\t\t\"Format\": str(lat)\n",
    "\t\t\t}\n",
    "\n",
    "\t\t}\n",
    "\n",
    "\n",
    "\t}\n",
    "\n",
    "}\n",
    "}"
   ]
  },
  {
   "cell_type": "code",
   "execution_count": 67,
   "id": "foster-moore",
   "metadata": {},
   "outputs": [],
   "source": [
    "from pprint import pprint"
   ]
  },
  {
   "cell_type": "code",
   "execution_count": 81,
   "id": "miniature-treatment",
   "metadata": {},
   "outputs": [
    {
     "name": "stdout",
     "output_type": "stream",
     "text": [
      "{'Location_33.775215_-84.396067': {'LocationInformation': {'PanoID': '33.775215', 'Latitude': '33.775215', 'Longitude': '33.775215', 'Address': '33.775215'}, 'Img1_0': {'Direction_Degrees': '33.775215', 'PicturePath': '33.775215', 'Pitch': '33.775215', 'ZoomAndFov': '33.775215', 'CalculatedOutputAzure': {'ContainsSideWalk': '33.775215', 'ImageTagging': {'Tags': {'33.775215': {'Confidence': '33.775215', 'Hint': '33.775215'}}, 'RequestID': '33.775215'}, 'DescribeImg': {'Description': {'Text': '33.775215', 'Confidence': '33.775215'}, 'Tags': {'33.775215': '33.775215'}, 'RequestID': '33.775215'}, 'AnalysisImg': {'Analysis': {'33.775215': {'Score': '33.775215'}}, 'RequestID': '33.775215'}, 'ObjectsImg': {'Objects': {'33.775215': {'X': '33.775215', 'Y': '33.775215', 'W': '33.775215', 'H': '33.775215'}}, 'RequestID': '33.775215'}, 'AreaIntreast': {'IntreastLocation': {'X': '33.775215', 'Y': '33.775215', 'W': '33.775215', 'H': '33.775215'}, 'RequestID': '33.775215'}, 'MetaData': {'Width': '33.775215', 'Height': '33.775215', 'Format': '33.775215'}}}}}\n"
     ]
    }
   ],
   "source": [
    "print(dictNorm)"
   ]
  },
  {
   "cell_type": "code",
   "execution_count": 76,
   "id": "comparative-refrigerator",
   "metadata": {},
   "outputs": [],
   "source": [
    "L = \"\"\"{'Location_33.775215_-84.396067': {'LocationInformation': {'PanoID': '33.775215',\n",
    "   'Latitude': '33.775215',\n",
    "   'Longitude': '33.775215',\n",
    "   'Address': '33.775215'},\n",
    "  'Img1_0': {'Direction_Degrees': '33.775215',\n",
    "   'PicturePath': '33.775215',\n",
    "   'Pitch': '33.775215',\n",
    "   'ZoomAndFov': '33.775215',\n",
    "   'CalculatedOutputAzure': {'ContainsSideWalk': '33.775215',\n",
    "    'ImageTagging': {'Tags': {'33.775215': {'Confidence': '33.775215',\n",
    "       'Hint': '33.775215'}},\n",
    "     'RequestID': '33.775215'},\n",
    "    'DescribeImg': {'Description': {'Text': '33.775215',\n",
    "      'Confidence': '33.775215'},\n",
    "     'Tags': {'33.775215': '33.775215'},\n",
    "     'RequestID': '33.775215'},\n",
    "    'AnalysisImg': {'Analysis': {'33.775215': {'Score': '33.775215'}},\n",
    "     'RequestID': '33.775215'},\n",
    "    'ObjectsImg': {'Objects': {'33.775215': {'X': '33.775215',\n",
    "       'Y': '33.775215',\n",
    "       'W': '33.775215',\n",
    "       'H': '33.775215'}},\n",
    "     'RequestID': '33.775215'},\n",
    "    'AreaIntreast': {'IntreastLocation': {'X': '33.775215',\n",
    "      'Y': '33.775215',\n",
    "      'W': '33.775215',\n",
    "      'H': '33.775215'},\n",
    "     'RequestID': '33.775215'},\n",
    "    'MetaData': {'Width': '33.775215',\n",
    "     'Height': '33.775215',\n",
    "     'Format': '33.775215'}}}}}\"\"\""
   ]
  },
  {
   "cell_type": "code",
   "execution_count": 77,
   "id": "activated-determination",
   "metadata": {},
   "outputs": [],
   "source": [
    "import json\n",
    "\n",
    "def is_json(myjson):\n",
    "    try:\n",
    "        json_object = json.loads(myjson)\n",
    "    except ValueError as e:\n",
    "        return False\n",
    "    return True"
   ]
  },
  {
   "cell_type": "code",
   "execution_count": 79,
   "id": "detailed-installation",
   "metadata": {},
   "outputs": [
    {
     "data": {
      "text/plain": [
       "False"
      ]
     },
     "execution_count": 79,
     "metadata": {},
     "output_type": "execute_result"
    }
   ],
   "source": [
    "is_json(L)"
   ]
  }
 ],
 "metadata": {
  "kernelspec": {
   "display_name": "Python 3",
   "language": "python",
   "name": "python3"
  },
  "language_info": {
   "codemirror_mode": {
    "name": "ipython",
    "version": 3
   },
   "file_extension": ".py",
   "mimetype": "text/x-python",
   "name": "python",
   "nbconvert_exporter": "python",
   "pygments_lexer": "ipython3",
   "version": "3.8.6"
  }
 },
 "nbformat": 4,
 "nbformat_minor": 5
}
