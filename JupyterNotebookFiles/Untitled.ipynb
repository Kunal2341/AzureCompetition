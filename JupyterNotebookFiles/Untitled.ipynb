{
 "cells": [
  {
   "cell_type": "code",
   "execution_count": 1,
   "id": "imported-toronto",
   "metadata": {},
   "outputs": [],
   "source": [
    "from selenium import webdriver\n",
    "from webdriver_manager.chrome import ChromeDriverManager\n",
    "from selenium.webdriver.common.keys import Keys"
   ]
  },
  {
   "cell_type": "code",
   "execution_count": 8,
   "id": "metallic-psychiatry",
   "metadata": {},
   "outputs": [],
   "source": [
    "lat, long = 33.7701178,-84.4041737"
   ]
  },
  {
   "cell_type": "code",
   "execution_count": 10,
   "id": "green-administrator",
   "metadata": {},
   "outputs": [],
   "source": [
    "import time"
   ]
  },
  {
   "cell_type": "code",
   "execution_count": 12,
   "id": "extended-protocol",
   "metadata": {},
   "outputs": [
    {
     "name": "stderr",
     "output_type": "stream",
     "text": [
      "[WDM] - Current google-chrome version is 88.0.4324\n",
      "[WDM] - Get LATEST driver version for 88.0.4324\n",
      "[WDM] - Driver [C:\\Users\\kunal\\.wdm\\drivers\\chromedriver\\win32\\88.0.4324.96\\chromedriver.exe] found in cache\n"
     ]
    },
    {
     "name": "stdout",
     "output_type": "stream",
     "text": [
      " \n"
     ]
    },
    {
     "ename": "SyntaxError",
     "evalue": "'return' outside function (<ipython-input-12-84de401cde1f>, line 18)",
     "output_type": "error",
     "traceback": [
      "\u001b[1;36m  File \u001b[1;32m\"<ipython-input-12-84de401cde1f>\"\u001b[1;36m, line \u001b[1;32m18\u001b[0m\n\u001b[1;33m    return addy\u001b[0m\n\u001b[1;37m    ^\u001b[0m\n\u001b[1;31mSyntaxError\u001b[0m\u001b[1;31m:\u001b[0m 'return' outside function\n"
     ]
    }
   ],
   "source": [
    "#print(\"Opens Selenium and converts Lat long number to address and returns string address\")\n",
    "driver = webdriver.Chrome(ChromeDriverManager().install())\n",
    "driver.get(\"https://www.latlong.net/Show-Latitude-Longitude.html\")\n",
    "latPath = \"/html/body/main/div[2]/div[1]/form/div[1]/div[1]/input\"\n",
    "longPath = \"/html/body/main/div[2]/div[1]/form/div[1]/div[2]/input\"\n",
    "convert = \"/html/body/main/div[2]/div[1]/form/div[1]/div[3]/button\"\n",
    "answer = \"/html/body/main/div[2]/div[1]/form/div[2]\"\n",
    "latNum = str(lat)\n",
    "longNum = str(long)\n",
    "driver.find_element_by_xpath(latPath).send_keys(Keys.CONTROL, 'a')\n",
    "driver.find_element_by_xpath(latPath).send_keys(latNum)\n",
    "driver.find_element_by_xpath(longPath).send_keys(Keys.CONTROL, 'a')\n",
    "time.sleep(0.5)\n",
    "driver.find_element_by_xpath(longPath).send_keys(longNum)\n",
    "driver.find_element_by_xpath(convert).send_keys(Keys.ENTER)\n",
    "addy = driver.find_element_by_xpath(answer).text\n",
    "\n",
    "return addy"
   ]
  },
  {
   "cell_type": "code",
   "execution_count": null,
   "id": "advised-signature",
   "metadata": {},
   "outputs": [],
   "source": [
    "driver.quit()"
   ]
  },
  {
   "cell_type": "code",
   "execution_count": 13,
   "id": "altered-honor",
   "metadata": {},
   "outputs": [
    {
     "name": "stdout",
     "output_type": "stream",
     "text": [
      "US-78 East, Atlanta, GA 30318\n",
      "English Avenue Atlanta Georgia United States\n"
     ]
    }
   ],
   "source": [
    "print(addy)"
   ]
  },
  {
   "cell_type": "code",
   "execution_count": null,
   "id": "bibliographic-branch",
   "metadata": {},
   "outputs": [],
   "source": []
  }
 ],
 "metadata": {
  "kernelspec": {
   "display_name": "Python 3",
   "language": "python",
   "name": "python3"
  },
  "language_info": {
   "codemirror_mode": {
    "name": "ipython",
    "version": 3
   },
   "file_extension": ".py",
   "mimetype": "text/x-python",
   "name": "python",
   "nbconvert_exporter": "python",
   "pygments_lexer": "ipython3",
   "version": "3.8.6"
  }
 },
 "nbformat": 4,
 "nbformat_minor": 5
}
